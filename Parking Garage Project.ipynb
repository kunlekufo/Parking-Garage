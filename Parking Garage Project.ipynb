{
 "cells": [
  {
   "cell_type": "markdown",
   "metadata": {},
   "source": [
    "# Parking Garage Project\n",
    "\n",
    "Your assignment for today is to create a parking garage class to get more familiar with Object Oriented Programming(OOP). \n",
    "\n",
    "Your parking gargage class should have the following methods:\n",
    "- takeTicket\n",
    "   - This should decrease the amount of tickets available by 1\n",
    "   - This should decrease the amount of parkingSpaces available by 1\n",
    "- payForParking\n",
    "   - Display an input that waits for an amount from the user and store it in a variable\n",
    "   - If the payment variable is not empty then ->  display a message to the user that their ticket has been paid and they have 15mins to leave\n",
    "   - This should update the \"currentTicket\" dictionary key \"paid\" to True\n",
    "-leaveGarage\n",
    "   - If the ticket has been paid, display a message of \"Thank You, have a nice day\"\n",
    "   - If the ticket has not been paid, display an input prompt for payment\n",
    "      - Once paid, display message \"Thank you, have a nice day!\"\n",
    "   - Update parkingSpaces list to increase by 1\n",
    "   - Update tickets list to increase by 1\n",
    "\n",
    "You will need a few attributes as well:\n",
    "- tickets -> list\n",
    "- parkingSpaces -> list\n",
    "- currentTicket -> dictionary"
   ]
  },
  {
   "cell_type": "code",
   "execution_count": 2,
   "metadata": {},
   "outputs": [
    {
     "name": "stdout",
     "output_type": "stream",
     "text": [
      "Enter 'take' to take a ticket, 'pay' to pay for parking, 'leave' to leave the garage, or 'exit' to exit: exit\n"
     ]
    }
   ],
   "source": [
    "# Your Code will go here\n",
    "class ParkingGarage:\n",
    "    def __init__(self, total_tickets, total_parking_spaces):\n",
    "        self.tickets = list(range(1, total_tickets + 1))\n",
    "        self.parkingSpaces = list(range(1, total_parking_spaces + 1))\n",
    "        self.currentTicket = {}\n",
    "\n",
    "    def takeTicket(self):\n",
    "        if self.tickets:\n",
    "            ticket = self.tickets.pop(0)\n",
    "            parking_space = self.parkingSpaces.pop(0)\n",
    "            self.currentTicket[ticket] = {\n",
    "                'paid': False,\n",
    "                'parking_space': parking_space\n",
    "            }\n",
    "            return f\"Please take ticket {ticket}, and park in space {parking_space}\"\n",
    "        else:\n",
    "            return \"Sorry, the garage is full. No available tickets or parking spaces.\"\n",
    "\n",
    "    def payForParking(self, ticket):\n",
    "        if ticket in self.currentTicket:\n",
    "            if not self.currentTicket[ticket]['paid']:\n",
    "                amount = input(\"Please enter the payment amount: \")\n",
    "                if amount:\n",
    "                    self.currentTicket[ticket]['paid'] = True\n",
    "                    return f\"Ticket {ticket} has been paid. You have 15 minutes to leave.\"\n",
    "                else:\n",
    "                    return \"Payment amount cannot be empty.\"\n",
    "            else:\n",
    "                return \"This ticket has already been paid.\"\n",
    "        else:\n",
    "            return \"Invalid ticket. Please enter a valid ticket number.\"\n",
    "\n",
    "    def leaveGarage(self, ticket):\n",
    "        if ticket in self.currentTicket:\n",
    "            if self.currentTicket[ticket]['paid']:\n",
    "                self.parkingSpaces.append(self.currentTicket[ticket]['parking_space'])\n",
    "                self.tickets.append(ticket)\n",
    "                del self.currentTicket[ticket]\n",
    "                return \"Thank you, have a nice day!\"\n",
    "            else:\n",
    "                amount = self.payForParking(ticket)\n",
    "                return amount\n",
    "        else:\n",
    "            return \"Invalid ticket. Please enter a valid ticket number.\"\n",
    "\n",
    "# Example usage:\n",
    "garage = ParkingGarage(10, 10)\n",
    "\n",
    "while True:\n",
    "    action = input(\"Enter 'take' to take a ticket, 'pay' to pay for parking, 'leave' to leave the garage, or 'exit' to exit: \")\n",
    "    if action == 'take':\n",
    "        print(garage.takeTicket())\n",
    "    elif action == 'pay':\n",
    "        ticket = int(input(\"1: \"))\n",
    "        print(garage.payForParking(ticket))\n",
    "    elif action == 'leave':\n",
    "        ticket = int(input(\"1: \"))\n",
    "        print(garage.leaveGarage(ticket))\n",
    "    elif action == 'exit':\n",
    "        break\n",
    "    else:\n",
    "        print(\"Invalid command. Please try again.\")\n"
   ]
  },
  {
   "cell_type": "code",
   "execution_count": null,
   "metadata": {},
   "outputs": [],
   "source": []
  }
 ],
 "metadata": {
  "kernelspec": {
   "display_name": "Python 3 (ipykernel)",
   "language": "python",
   "name": "python3"
  },
  "language_info": {
   "codemirror_mode": {
    "name": "ipython",
    "version": 3
   },
   "file_extension": ".py",
   "mimetype": "text/x-python",
   "name": "python",
   "nbconvert_exporter": "python",
   "pygments_lexer": "ipython3",
   "version": "3.11.5"
  }
 },
 "nbformat": 4,
 "nbformat_minor": 2
}
